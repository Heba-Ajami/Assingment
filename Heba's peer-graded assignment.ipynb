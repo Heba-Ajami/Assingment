{
 "cells": [
  {
   "cell_type": "markdown",
   "id": "1ad156d4-4a44-4748-9959-5c681849479c",
   "metadata": {},
   "source": [
    "# \"My Jupyter Notebook on IBM Watson Studio\""
   ]
  },
  {
   "cell_type": "markdown",
   "id": "af9b2b00-236d-49b8-bec2-e6149e59f111",
   "metadata": {},
   "source": [
    "**Heba Ajami** Research Assistant"
   ]
  },
  {
   "cell_type": "markdown",
   "id": "be26295c-9220-4d79-af0b-01b7cf92d7ce",
   "metadata": {},
   "source": [
    "*I am interested in Data Science because I believe it can tackle a lot of global health problems and find new innovations to improve healthcare sector*"
   ]
  },
  {
   "cell_type": "markdown",
   "id": "57d32a8c-cbc9-44f7-96d5-ec4d0b182d9d",
   "metadata": {},
   "source": [
    "### The following code calculate the mean for a list of given numbers"
   ]
  },
  {
   "cell_type": "code",
   "execution_count": 1,
   "id": "a2d5b807-f2db-44d9-9dd2-f50065218afd",
   "metadata": {},
   "outputs": [
    {
     "name": "stdout",
     "output_type": "stream",
     "text": [
      "mean is: 55.0\n"
     ]
    }
   ],
   "source": [
    "# List of numbers \n",
    "data = [66 , 78 , 40 , 51 , 40]\n",
    "# Calculate mean value\n",
    "mean = sum(data)/len(data)\n",
    "print(\"mean is:\", mean )"
   ]
  },
  {
   "cell_type": "markdown",
   "id": "083dbf5d-e5f6-4bd5-8e97-e921acfa141b",
   "metadata": {},
   "source": [
    "the following `table` contain the `favoraite dish` for a number of people\n",
    "\n",
    "---"
   ]
  },
  {
   "cell_type": "markdown",
   "id": "8b6c4888-5d9a-45ba-9735-fd9b259cc8d3",
   "metadata": {},
   "source": [
    "| Name | Age | Fav. Dish |\n",
    "| --- | --- | --- |\n",
    "| Louis| **40** |  *Fried Chicken and Noodles* |              \n",
    "| Adam  |  ~~unknown~~ | Anything with `rice` |"
   ]
  },
  {
   "cell_type": "code",
   "execution_count": null,
   "id": "275b426a-d873-44f1-8dfe-8b5d1489863e",
   "metadata": {},
   "outputs": [],
   "source": []
  }
 ],
 "metadata": {
  "kernelspec": {
   "display_name": "Python",
   "language": "python",
   "name": "conda-env-python-py"
  },
  "language_info": {
   "codemirror_mode": {
    "name": "ipython",
    "version": 3
   },
   "file_extension": ".py",
   "mimetype": "text/x-python",
   "name": "python",
   "nbconvert_exporter": "python",
   "pygments_lexer": "ipython3",
   "version": "3.7.12"
  }
 },
 "nbformat": 4,
 "nbformat_minor": 5
}
